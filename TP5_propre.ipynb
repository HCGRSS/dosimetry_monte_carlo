{
 "cells": [
  {
   "cell_type": "markdown",
   "id": "5dcfe58c-d654-47df-95a2-b2bdb13fcb19",
   "metadata": {
    "tags": []
   },
   "source": [
    "# TP n°5 & 6 : Initiation au calcul Monte Carlo"
   ]
  },
  {
   "cell_type": "markdown",
   "id": "b809b153-fa09-4314-8b9f-18ac79bf6cc2",
   "metadata": {
    "tags": []
   },
   "source": [
    "# Introduction"
   ]
  },
  {
   "cell_type": "markdown",
   "id": "d5f9b58b-87db-4a80-bac5-b39f23f5aa8a",
   "metadata": {},
   "source": [
    "L'objectif de ces 5ème et 6ème TP de modélisation pour la dosimétrie est l'initiation au techniques de Monte Carlo. Dans un premier temps nous étudierons un cas connu du calcul Monte Carlo : l'approximation de $\\pi$. Ensuite, dans un second temps, nous étudierons la modélisation de l'émission isotrope d'une source radioactive. Enfin, dans un dernier temps, nous étudierons la distance d'interaction d'un photon dans une cuve d'eau avant de déterminer la nature de ces interactions. "
   ]
  },
  {
   "cell_type": "markdown",
   "id": "259c2878-41d5-468a-9d6a-611a62394c45",
   "metadata": {},
   "source": [
    "La première étape au cours de ce notebook est l'import des librairies utilisées."
   ]
  },
  {
   "cell_type": "code",
   "execution_count": 1,
   "id": "b6a807e2-4fb7-4c41-870d-58f78e7acf67",
   "metadata": {},
   "outputs": [],
   "source": [
    "import random\n",
    "import matplotlib.pyplot as plt \n",
    "import math\n",
    "import time\n",
    "import numpy as np\n",
    "import plotly.express as px\n",
    "import pandas as pd\n",
    "from scipy.optimize import curve_fit"
   ]
  },
  {
   "cell_type": "markdown",
   "id": "50082a96-f23f-456a-b804-ee65447c9814",
   "metadata": {},
   "source": [
    "## Partie 1 : Calcul de $\\pi$ par Monte Carlo "
   ]
  },
  {
   "attachments": {
    "514149ef-e75c-4f06-8ebe-09113adccd8b.png": {
     "image/png": "[encoded data removed]"
    }
   },
   "cell_type": "markdown",
   "id": "86adfb0a-7e33-4c6b-bf70-91f17b33ccb0",
   "metadata": {},
   "source": [
    "![circle.png](attachment:514149ef-e75c-4f06-8ebe-09113adccd8b.png)\n",
    "**Figure 1** - Modèle du quart de cercle utilisé pour l'approximation de $\\pi$ via Monte Carlo.\n",
    "\n",
    "<p align=\"center\">\n",
    "  <img ![circle.png](attachment:514149ef-e75c-4f06-8ebe-09113adccd8b.png) />\n",
    "</p>"
   ]
  },
  {
   "cell_type": "code",
   "execution_count": null,
   "id": "6e3a7a8d-b00c-4702-b500-62a6c43254f7",
   "metadata": {},
   "outputs": [],
   "source": [
    "def calcule_pi(n) :\n",
    "    p = 0\n",
    "    for i in  range (0,n) :\n",
    "        x = random.random()\n",
    "        y = random.random()\n",
    "        if x**2 + y**2 < 1 :\n",
    "            p += 1\n",
    "    return 4*p/n"
   ]
  }
 ],
 "metadata": {
  "kernelspec": {
   "display_name": "Python 3 (ipykernel)",
   "language": "python",
   "name": "python3"
  },
  "language_info": {
   "codemirror_mode": {
    "name": "ipython",
    "version": 3
   },
   "file_extension": ".py",
   "mimetype": "text/x-python",
   "name": "python",
   "nbconvert_exporter": "python",
   "pygments_lexer": "ipython3",
   "version": "3.8.8"
  }
 },
 "nbformat": 4,
 "nbformat_minor": 5
}
